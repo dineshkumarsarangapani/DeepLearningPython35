{
 "cells": [
  {
   "cell_type": "code",
   "execution_count": 1,
   "metadata": {},
   "outputs": [
    {
     "name": "stdout",
     "output_type": "stream",
     "text": [
      "(-1.04, -1.0, 0.96, 0.98)\n",
      "[0 0 1 1]\n",
      "3\n"
     ]
    }
   ],
   "source": [
    "\"\"\"\n",
    "NEURAL NETWORKS AND DEEP LEARNING by Michael Nielsen\n",
    "\n",
    "Chapter 1\n",
    "\n",
    "http://neuralnetworksanddeeplearning.com/chap1.html#exercise_513527\n",
    "\n",
    "Exercise:\n",
    "\n",
    "There is a way of determining the bitwise representation of a digit by adding an extra layer to the three-layer network above. The extra layer converts the output from the previous layer into a binary representation, as illustrated in the figure below. Find a set of weights and biases for the new output layer. Assume that the first 3 layers of neurons are such that the correct output in the third layer (i.e., the old output layer) has activation at least 0.99, and incorrect outputs have activation less than 0.01.\n",
    "\n",
    "\"\"\"\n",
    "import numpy as np\n",
    "\n",
    "\n",
    "def sigmoid(x):\n",
    "    return(1/(1+np.exp(-x)))\n",
    "\n",
    "\n",
    "def new_representation(activation_vector):\n",
    "    a_0 = np.sum(w_0 * activation_vector)\n",
    "    a_1 = np.sum(w_1 * activation_vector)\n",
    "    a_2 = np.sum(w_2 * activation_vector)\n",
    "    a_3 = np.sum(w_3 * activation_vector)\n",
    "\n",
    "    return a_3, a_2, a_1, a_0\n",
    "\n",
    "\n",
    "def new_repr_binary_vec(new_representation_vec):\n",
    "    sigmoid_op = np.apply_along_axis(sigmoid, 0, new_representation_vec)\n",
    "    return (sigmoid_op > 0.5).astype(int)\n",
    "\n",
    "\n",
    "w_0 = np.full(10, -1, dtype=np.int8)\n",
    "w_0[[1, 3, 5, 7, 9]] = 1\n",
    "w_1 = np.full(10, -1, dtype=np.int8)\n",
    "w_1[[2, 3, 6, 7]] = 1\n",
    "w_2 = np.full(10, -1, dtype=np.int8)\n",
    "w_2[[4, 5, 6, 7]] = 1\n",
    "w_3 = np.full(10, -1, dtype=np.int8)\n",
    "w_3[[8, 9]] = 1\n",
    "\n",
    "activation_vec = np.full(10, 0.01, dtype=np.float)\n",
    "# correct number is 5\n",
    "activation_vec[3] = 0.99\n",
    "\n",
    "new_representation_vec = new_representation(activation_vec)\n",
    "print(new_representation_vec)\n",
    "# (-1.04, 0.96, -1.0, 0.98)\n",
    "print(new_repr_binary_vec(new_representation_vec))\n",
    "# [0 1 0 1]\n",
    "\n",
    "# if you wish to convert binary vector to int\n",
    "b = new_repr_binary_vec(new_representation_vec)\n",
    "print(b.dot(2**np.arange(b.size)[::-1]))\n",
    "# 5"
   ]
  },
  {
   "cell_type": "code",
   "execution_count": 2,
   "metadata": {},
   "outputs": [],
   "source": [
    "import numpy as np\n"
   ]
  },
  {
   "cell_type": "code",
   "execution_count": 5,
   "metadata": {},
   "outputs": [],
   "source": [
    "i = np.identity(10)"
   ]
  },
  {
   "cell_type": "code",
   "execution_count": 8,
   "metadata": {},
   "outputs": [
    {
     "data": {
      "text/plain": [
       "(10, 10)"
      ]
     },
     "execution_count": 8,
     "metadata": {},
     "output_type": "execute_result"
    }
   ],
   "source": [
    "i.shape"
   ]
  },
  {
   "cell_type": "code",
   "execution_count": 7,
   "metadata": {},
   "outputs": [
    {
     "data": {
      "text/plain": [
       "array([[1., 0., 0., 0., 0., 0., 0., 0., 0., 0.],\n",
       "       [0., 1., 0., 0., 0., 0., 0., 0., 0., 0.],\n",
       "       [0., 0., 1., 0., 0., 0., 0., 0., 0., 0.],\n",
       "       [0., 0., 0., 1., 0., 0., 0., 0., 0., 0.],\n",
       "       [0., 0., 0., 0., 1., 0., 0., 0., 0., 0.],\n",
       "       [0., 0., 0., 0., 0., 1., 0., 0., 0., 0.],\n",
       "       [0., 0., 0., 0., 0., 0., 1., 0., 0., 0.],\n",
       "       [0., 0., 0., 0., 0., 0., 0., 1., 0., 0.],\n",
       "       [0., 0., 0., 0., 0., 0., 0., 0., 1., 0.],\n",
       "       [0., 0., 0., 0., 0., 0., 0., 0., 0., 1.]])"
      ]
     },
     "execution_count": 7,
     "metadata": {},
     "output_type": "execute_result"
    }
   ],
   "source": [
    "i"
   ]
  },
  {
   "cell_type": "code",
   "execution_count": 12,
   "metadata": {},
   "outputs": [],
   "source": [
    "wj = np.array([[0,0, 0, 0, 0, 0, 0, 0, 1, 1],\n",
    "      [0, 0, 0, 0, 1, 1, 1, 1, 0, 0],\n",
    "      [0, 0, 1, 1, 0, 0, 1, 1, 0, 0],\n",
    "      [0, 1, 0, 1, 0, 1, 0, 1, 0, 1]])"
   ]
  },
  {
   "cell_type": "code",
   "execution_count": 24,
   "metadata": {},
   "outputs": [
    {
     "data": {
      "text/plain": [
       "(4, 10)"
      ]
     },
     "execution_count": 24,
     "metadata": {},
     "output_type": "execute_result"
    }
   ],
   "source": [
    "wj.shape"
   ]
  },
  {
   "cell_type": "code",
   "execution_count": 23,
   "metadata": {},
   "outputs": [
    {
     "data": {
      "text/plain": [
       "array([[0., 0., 0., 0., 0., 0., 0., 0., 1., 1.],\n",
       "       [0., 0., 0., 0., 1., 1., 1., 1., 0., 0.],\n",
       "       [0., 0., 1., 1., 0., 0., 1., 1., 0., 0.],\n",
       "       [0., 1., 0., 1., 0., 1., 0., 1., 0., 1.]])"
      ]
     },
     "execution_count": 23,
     "metadata": {},
     "output_type": "execute_result"
    }
   ],
   "source": [
    "np.dot(wj,i, out=None)"
   ]
  },
  {
   "cell_type": "code",
   "execution_count": 17,
   "metadata": {},
   "outputs": [
    {
     "data": {
      "text/plain": [
       "array([[0., 0., 0., 0., 0., 0., 0., 0., 1., 1.],\n",
       "       [0., 0., 0., 0., 1., 1., 1., 1., 0., 0.],\n",
       "       [0., 0., 1., 1., 0., 0., 1., 1., 0., 0.],\n",
       "       [0., 1., 0., 1., 0., 1., 0., 1., 0., 1.]])"
      ]
     },
     "execution_count": 17,
     "metadata": {},
     "output_type": "execute_result"
    }
   ],
   "source": [
    "x"
   ]
  },
  {
   "cell_type": "code",
   "execution_count": null,
   "metadata": {},
   "outputs": [],
   "source": []
  }
 ],
 "metadata": {
  "kernelspec": {
   "display_name": "Python 3",
   "language": "python",
   "name": "python3"
  },
  "language_info": {
   "codemirror_mode": {
    "name": "ipython",
    "version": 3
   },
   "file_extension": ".py",
   "mimetype": "text/x-python",
   "name": "python",
   "nbconvert_exporter": "python",
   "pygments_lexer": "ipython3",
   "version": "3.7.7"
  }
 },
 "nbformat": 4,
 "nbformat_minor": 4
}
